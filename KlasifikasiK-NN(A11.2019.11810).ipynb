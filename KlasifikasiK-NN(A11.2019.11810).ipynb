{
  "nbformat": 4,
  "nbformat_minor": 0,
  "metadata": {
    "colab": {
      "name": "TP6-DataMining.ipynb",
      "provenance": [],
      "toc_visible": true
    },
    "kernelspec": {
      "name": "python3",
      "display_name": "Python 3"
    },
    "language_info": {
      "name": "python"
    }
  },
  "cells": [
    {
      "cell_type": "code",
      "execution_count": 1,
      "metadata": {
        "id": "hpmOUbGq2Gpa"
      },
      "outputs": [],
      "source": [
        "import numpy as np\n",
        "import pandas as pd\n",
        "import matplotlib.pyplot as plt"
      ]
    },
    {
      "cell_type": "code",
      "source": [
        "dataset=pd.read_csv(\"/content/pasar.csv\")"
      ],
      "metadata": {
        "id": "IRV9E9Hw2RYJ"
      },
      "execution_count": 2,
      "outputs": []
    },
    {
      "cell_type": "code",
      "source": [
        "dataset.head()"
      ],
      "metadata": {
        "colab": {
          "base_uri": "https://localhost:8080/",
          "height": 206
        },
        "id": "Q2nTe6YQ2RtO",
        "outputId": "239782cf-ef5a-4654-ba60-2a49899d7bcc"
      },
      "execution_count": 3,
      "outputs": [
        {
          "output_type": "execute_result",
          "data": {
            "text/plain": [
              "   Id UPTD     Nama Pasar  Kios  Los  Worn\n",
              "0      101    JOHAR UTARA   229  256     0\n",
              "1      102   JOHAR TENGAH   128  442     0\n",
              "2      103  JOHAR SELATAN   121  327     0\n",
              "3      104            SCJ     0    1     0\n",
              "4      105    YAIK PERMAI   162  250     0"
            ],
            "text/html": [
              "\n",
              "  <div id=\"df-747711cc-ca7c-4d36-842e-f16c3fa5dcab\">\n",
              "    <div class=\"colab-df-container\">\n",
              "      <div>\n",
              "<style scoped>\n",
              "    .dataframe tbody tr th:only-of-type {\n",
              "        vertical-align: middle;\n",
              "    }\n",
              "\n",
              "    .dataframe tbody tr th {\n",
              "        vertical-align: top;\n",
              "    }\n",
              "\n",
              "    .dataframe thead th {\n",
              "        text-align: right;\n",
              "    }\n",
              "</style>\n",
              "<table border=\"1\" class=\"dataframe\">\n",
              "  <thead>\n",
              "    <tr style=\"text-align: right;\">\n",
              "      <th></th>\n",
              "      <th>Id UPTD</th>\n",
              "      <th>Nama Pasar</th>\n",
              "      <th>Kios</th>\n",
              "      <th>Los</th>\n",
              "      <th>Worn</th>\n",
              "    </tr>\n",
              "  </thead>\n",
              "  <tbody>\n",
              "    <tr>\n",
              "      <th>0</th>\n",
              "      <td>101</td>\n",
              "      <td>JOHAR UTARA</td>\n",
              "      <td>229</td>\n",
              "      <td>256</td>\n",
              "      <td>0</td>\n",
              "    </tr>\n",
              "    <tr>\n",
              "      <th>1</th>\n",
              "      <td>102</td>\n",
              "      <td>JOHAR TENGAH</td>\n",
              "      <td>128</td>\n",
              "      <td>442</td>\n",
              "      <td>0</td>\n",
              "    </tr>\n",
              "    <tr>\n",
              "      <th>2</th>\n",
              "      <td>103</td>\n",
              "      <td>JOHAR SELATAN</td>\n",
              "      <td>121</td>\n",
              "      <td>327</td>\n",
              "      <td>0</td>\n",
              "    </tr>\n",
              "    <tr>\n",
              "      <th>3</th>\n",
              "      <td>104</td>\n",
              "      <td>SCJ</td>\n",
              "      <td>0</td>\n",
              "      <td>1</td>\n",
              "      <td>0</td>\n",
              "    </tr>\n",
              "    <tr>\n",
              "      <th>4</th>\n",
              "      <td>105</td>\n",
              "      <td>YAIK PERMAI</td>\n",
              "      <td>162</td>\n",
              "      <td>250</td>\n",
              "      <td>0</td>\n",
              "    </tr>\n",
              "  </tbody>\n",
              "</table>\n",
              "</div>\n",
              "      <button class=\"colab-df-convert\" onclick=\"convertToInteractive('df-747711cc-ca7c-4d36-842e-f16c3fa5dcab')\"\n",
              "              title=\"Convert this dataframe to an interactive table.\"\n",
              "              style=\"display:none;\">\n",
              "        \n",
              "  <svg xmlns=\"http://www.w3.org/2000/svg\" height=\"24px\"viewBox=\"0 0 24 24\"\n",
              "       width=\"24px\">\n",
              "    <path d=\"M0 0h24v24H0V0z\" fill=\"none\"/>\n",
              "    <path d=\"M18.56 5.44l.94 2.06.94-2.06 2.06-.94-2.06-.94-.94-2.06-.94 2.06-2.06.94zm-11 1L8.5 8.5l.94-2.06 2.06-.94-2.06-.94L8.5 2.5l-.94 2.06-2.06.94zm10 10l.94 2.06.94-2.06 2.06-.94-2.06-.94-.94-2.06-.94 2.06-2.06.94z\"/><path d=\"M17.41 7.96l-1.37-1.37c-.4-.4-.92-.59-1.43-.59-.52 0-1.04.2-1.43.59L10.3 9.45l-7.72 7.72c-.78.78-.78 2.05 0 2.83L4 21.41c.39.39.9.59 1.41.59.51 0 1.02-.2 1.41-.59l7.78-7.78 2.81-2.81c.8-.78.8-2.07 0-2.86zM5.41 20L4 18.59l7.72-7.72 1.47 1.35L5.41 20z\"/>\n",
              "  </svg>\n",
              "      </button>\n",
              "      \n",
              "  <style>\n",
              "    .colab-df-container {\n",
              "      display:flex;\n",
              "      flex-wrap:wrap;\n",
              "      gap: 12px;\n",
              "    }\n",
              "\n",
              "    .colab-df-convert {\n",
              "      background-color: #E8F0FE;\n",
              "      border: none;\n",
              "      border-radius: 50%;\n",
              "      cursor: pointer;\n",
              "      display: none;\n",
              "      fill: #1967D2;\n",
              "      height: 32px;\n",
              "      padding: 0 0 0 0;\n",
              "      width: 32px;\n",
              "    }\n",
              "\n",
              "    .colab-df-convert:hover {\n",
              "      background-color: #E2EBFA;\n",
              "      box-shadow: 0px 1px 2px rgba(60, 64, 67, 0.3), 0px 1px 3px 1px rgba(60, 64, 67, 0.15);\n",
              "      fill: #174EA6;\n",
              "    }\n",
              "\n",
              "    [theme=dark] .colab-df-convert {\n",
              "      background-color: #3B4455;\n",
              "      fill: #D2E3FC;\n",
              "    }\n",
              "\n",
              "    [theme=dark] .colab-df-convert:hover {\n",
              "      background-color: #434B5C;\n",
              "      box-shadow: 0px 1px 3px 1px rgba(0, 0, 0, 0.15);\n",
              "      filter: drop-shadow(0px 1px 2px rgba(0, 0, 0, 0.3));\n",
              "      fill: #FFFFFF;\n",
              "    }\n",
              "  </style>\n",
              "\n",
              "      <script>\n",
              "        const buttonEl =\n",
              "          document.querySelector('#df-747711cc-ca7c-4d36-842e-f16c3fa5dcab button.colab-df-convert');\n",
              "        buttonEl.style.display =\n",
              "          google.colab.kernel.accessAllowed ? 'block' : 'none';\n",
              "\n",
              "        async function convertToInteractive(key) {\n",
              "          const element = document.querySelector('#df-747711cc-ca7c-4d36-842e-f16c3fa5dcab');\n",
              "          const dataTable =\n",
              "            await google.colab.kernel.invokeFunction('convertToInteractive',\n",
              "                                                     [key], {});\n",
              "          if (!dataTable) return;\n",
              "\n",
              "          const docLinkHtml = 'Like what you see? Visit the ' +\n",
              "            '<a target=\"_blank\" href=https://colab.research.google.com/notebooks/data_table.ipynb>data table notebook</a>'\n",
              "            + ' to learn more about interactive tables.';\n",
              "          element.innerHTML = '';\n",
              "          dataTable['output_type'] = 'display_data';\n",
              "          await google.colab.output.renderOutput(dataTable, element);\n",
              "          const docLink = document.createElement('div');\n",
              "          docLink.innerHTML = docLinkHtml;\n",
              "          element.appendChild(docLink);\n",
              "        }\n",
              "      </script>\n",
              "    </div>\n",
              "  </div>\n",
              "  "
            ]
          },
          "metadata": {},
          "execution_count": 3
        }
      ]
    },
    {
      "cell_type": "code",
      "source": [
        "x=dataset.iloc[:, [2, 3]].values\n",
        "y=dataset.iloc[:, -1].values "
      ],
      "metadata": {
        "id": "Xb2za3Zy2R_e"
      },
      "execution_count": 4,
      "outputs": []
    },
    {
      "cell_type": "code",
      "source": [
        "print(x)"
      ],
      "metadata": {
        "colab": {
          "base_uri": "https://localhost:8080/"
        },
        "id": "txs6No3N2SVx",
        "outputId": "e6777d2d-ac06-44f3-c33f-f79cb6b8caf2"
      },
      "execution_count": 5,
      "outputs": [
        {
          "output_type": "stream",
          "name": "stdout",
          "text": [
            "[[ 229  256]\n",
            " [ 128  442]\n",
            " [ 121  327]\n",
            " [   0    1]\n",
            " [ 162  250]\n",
            " [  55  388]\n",
            " [   0  189]\n",
            " [   0    0]\n",
            " [  38    0]\n",
            " [  42  477]\n",
            " [  50  306]\n",
            " [  35  457]\n",
            " [  68  312]\n",
            " [  61 1148]\n",
            " [ 458    0]\n",
            " [   0   56]\n",
            " [  34  236]\n",
            " [  53   46]\n",
            " [   0  195]\n",
            " [  32  196]\n",
            " [ 141  581]\n",
            " [   6  191]\n",
            " [ 130  252]\n",
            " [ 126  355]\n",
            " [  19  106]\n",
            " [   6   34]\n",
            " [  14  175]\n",
            " [  43  343]\n",
            " [  26  521]\n",
            " [  44  121]\n",
            " [  29  243]\n",
            " [  49  112]\n",
            " [  20  733]\n",
            " [   1  600]\n",
            " [  23   83]\n",
            " [  16   32]\n",
            " [   0   87]\n",
            " [  53  324]\n",
            " [  27  505]\n",
            " [  74  279]\n",
            " [   3    4]\n",
            " [   0   14]\n",
            " [  68  263]\n",
            " [  88  407]\n",
            " [  41  236]\n",
            " [  32  120]\n",
            " [  22   98]\n",
            " [  16    0]\n",
            " [  90  512]\n",
            " [ 141  592]\n",
            " [  19  151]\n",
            " [   0  171]\n",
            " [   0    0]\n",
            " [  80  121]\n",
            " [  43  477]\n",
            " [ 474    6]]\n"
          ]
        }
      ]
    },
    {
      "cell_type": "code",
      "source": [
        "print(y)"
      ],
      "metadata": {
        "colab": {
          "base_uri": "https://localhost:8080/"
        },
        "id": "6onOYLsn2Sla",
        "outputId": "f2583192-d2a2-4bd1-a6c6-4852d0b0c19d"
      },
      "execution_count": 6,
      "outputs": [
        {
          "output_type": "stream",
          "name": "stdout",
          "text": [
            "[0 0 0 0 0 0 0 1 0 0 1 1 1 0 0 0 1 1 0 1 1 0 1 0 0 0 1 1 1 1 0 0 1 0 1 0 1\n",
            " 1 0 1 0 0 1 1 0 0 1 1 1 0 0 1 1 1 0 0]\n"
          ]
        }
      ]
    },
    {
      "cell_type": "code",
      "source": [
        "from sklearn.model_selection import train_test_split\n",
        "x_train, x_test, y_train, y_test=train_test_split(x, y, test_size=0.25, random_state=0)"
      ],
      "metadata": {
        "id": "AF80ZZRV2Szh"
      },
      "execution_count": 7,
      "outputs": []
    },
    {
      "cell_type": "code",
      "source": [
        "print(x_train)"
      ],
      "metadata": {
        "colab": {
          "base_uri": "https://localhost:8080/"
        },
        "id": "KyIHJZJr2TA3",
        "outputId": "bc322e5e-d92b-4aa0-80ce-15f070d495ea"
      },
      "execution_count": 8,
      "outputs": [
        {
          "output_type": "stream",
          "name": "stdout",
          "text": [
            "[[  49  112]\n",
            " [ 141  592]\n",
            " [  53  324]\n",
            " [   0    0]\n",
            " [ 458    0]\n",
            " [  43  343]\n",
            " [  16   32]\n",
            " [  19  151]\n",
            " [   0  195]\n",
            " [   0    0]\n",
            " [  23   83]\n",
            " [   0   56]\n",
            " [  55  388]\n",
            " [  44  121]\n",
            " [  34  236]\n",
            " [  43  477]\n",
            " [ 141  581]\n",
            " [  90  512]\n",
            " [  38    0]\n",
            " [  61 1148]\n",
            " [   6   34]\n",
            " [  53   46]\n",
            " [   0   14]\n",
            " [ 474    6]\n",
            " [  27  505]\n",
            " [ 128  442]\n",
            " [  68  312]\n",
            " [  68  263]\n",
            " [  19  106]\n",
            " [   0  189]\n",
            " [ 126  355]\n",
            " [   0   87]\n",
            " [   6  191]\n",
            " [  32  196]\n",
            " [  42  477]\n",
            " [  74  279]\n",
            " [   0  171]\n",
            " [   0    1]\n",
            " [ 229  256]\n",
            " [  80  121]\n",
            " [  16    0]\n",
            " [  41  236]]\n"
          ]
        }
      ]
    },
    {
      "cell_type": "code",
      "source": [
        "len(x_train)"
      ],
      "metadata": {
        "colab": {
          "base_uri": "https://localhost:8080/"
        },
        "id": "IlhQ3r5T2TM4",
        "outputId": "1cf4d952-ce71-458c-8e92-c842addf3304"
      },
      "execution_count": 9,
      "outputs": [
        {
          "output_type": "execute_result",
          "data": {
            "text/plain": [
              "42"
            ]
          },
          "metadata": {},
          "execution_count": 9
        }
      ]
    },
    {
      "cell_type": "code",
      "source": [
        "print(x_test)"
      ],
      "metadata": {
        "colab": {
          "base_uri": "https://localhost:8080/"
        },
        "id": "Vs3_b1kK2ThG",
        "outputId": "c26eb0f0-d7d1-4fa8-f9cd-633889acad73"
      },
      "execution_count": 10,
      "outputs": [
        {
          "output_type": "stream",
          "name": "stdout",
          "text": [
            "[[ 32 120]\n",
            " [  1 600]\n",
            " [  3   4]\n",
            " [ 14 175]\n",
            " [ 35 457]\n",
            " [121 327]\n",
            " [ 20 733]\n",
            " [ 88 407]\n",
            " [ 22  98]\n",
            " [ 29 243]\n",
            " [162 250]\n",
            " [ 50 306]\n",
            " [ 26 521]\n",
            " [130 252]]\n"
          ]
        }
      ]
    },
    {
      "cell_type": "code",
      "source": [
        "len(x_test)"
      ],
      "metadata": {
        "colab": {
          "base_uri": "https://localhost:8080/"
        },
        "id": "uGqnb7_B2Tu6",
        "outputId": "137ce982-3e3c-4c5f-8001-0c062b00ffdf"
      },
      "execution_count": 11,
      "outputs": [
        {
          "output_type": "execute_result",
          "data": {
            "text/plain": [
              "14"
            ]
          },
          "metadata": {},
          "execution_count": 11
        }
      ]
    },
    {
      "cell_type": "code",
      "source": [
        "print(y_train)"
      ],
      "metadata": {
        "colab": {
          "base_uri": "https://localhost:8080/"
        },
        "id": "HPqYIMO22T7h",
        "outputId": "3f803175-00ff-4b00-8647-eb2a0e79f519"
      },
      "execution_count": 12,
      "outputs": [
        {
          "output_type": "stream",
          "name": "stdout",
          "text": [
            "[0 0 1 1 0 1 0 0 0 1 1 0 0 1 1 0 1 1 0 0 0 1 0 0 0 0 1 1 0 0 0 1 0 1 0 1 1\n",
            " 0 0 1 1 0]\n"
          ]
        }
      ]
    },
    {
      "cell_type": "code",
      "source": [
        "len(y_train)"
      ],
      "metadata": {
        "colab": {
          "base_uri": "https://localhost:8080/"
        },
        "id": "8_5H_Jfb2UHY",
        "outputId": "7eb3b75c-0c9e-4d90-95d2-97059fecaebb"
      },
      "execution_count": 13,
      "outputs": [
        {
          "output_type": "execute_result",
          "data": {
            "text/plain": [
              "42"
            ]
          },
          "metadata": {},
          "execution_count": 13
        }
      ]
    },
    {
      "cell_type": "code",
      "source": [
        "print(y_test)"
      ],
      "metadata": {
        "colab": {
          "base_uri": "https://localhost:8080/"
        },
        "id": "cJ7yJu9f2UVf",
        "outputId": "71ed50a0-aa3e-41e9-a02a-b56c7a05bd8a"
      },
      "execution_count": 14,
      "outputs": [
        {
          "output_type": "stream",
          "name": "stdout",
          "text": [
            "[0 0 0 1 1 0 1 1 1 0 0 1 1 1]\n"
          ]
        }
      ]
    },
    {
      "cell_type": "code",
      "source": [
        "len(y_test)"
      ],
      "metadata": {
        "colab": {
          "base_uri": "https://localhost:8080/"
        },
        "id": "RpJqH9sW2Uhu",
        "outputId": "3b85a7d0-bdd5-4982-d619-5920d61ec5e8"
      },
      "execution_count": 15,
      "outputs": [
        {
          "output_type": "execute_result",
          "data": {
            "text/plain": [
              "14"
            ]
          },
          "metadata": {},
          "execution_count": 15
        }
      ]
    },
    {
      "cell_type": "code",
      "source": [
        "from sklearn.preprocessing import StandardScaler\n",
        "sc=StandardScaler()\n",
        "x_train=sc.fit_transform(x_train)\n",
        "x_test=sc.fit_transform(x_test)"
      ],
      "metadata": {
        "id": "bp3yrmew2Utu"
      },
      "execution_count": 16,
      "outputs": []
    },
    {
      "cell_type": "code",
      "source": [
        "print(x_train)"
      ],
      "metadata": {
        "colab": {
          "base_uri": "https://localhost:8080/"
        },
        "id": "KE8pCwdX2U6u",
        "outputId": "d5bfacd8-d91c-4f52-bec5-0acce793824e"
      },
      "execution_count": 17,
      "outputs": [
        {
          "output_type": "stream",
          "name": "stdout",
          "text": [
            "[[-0.17351305 -0.51824035]\n",
            " [ 0.73373247  1.59925569]\n",
            " [-0.1340676   0.41698707]\n",
            " [-0.65671991 -1.01232276]\n",
            " [ 3.85978497 -1.01232276]\n",
            " [-0.23268124  0.50080462]\n",
            " [-0.49893808 -0.87115636]\n",
            " [-0.46935398 -0.3461938 ]\n",
            " [-0.65671991 -0.15208999]\n",
            " [-0.65671991 -1.01232276]\n",
            " [-0.42990853 -0.6461724 ]\n",
            " [-0.65671991 -0.76528155]\n",
            " [-0.11434487  0.69931987]\n",
            " [-0.22281988 -0.4785373 ]\n",
            " [-0.32143352  0.02877946]\n",
            " [-0.23268124  1.09193893]\n",
            " [ 0.73373247  1.55072974]\n",
            " [ 0.23080288  1.24633968]\n",
            " [-0.28198806 -1.01232276]\n",
            " [-0.05517668  4.05202193]\n",
            " [-0.59755172 -0.86233346]\n",
            " [-0.1340676  -0.80939606]\n",
            " [-0.65671991 -0.95056246]\n",
            " [ 4.0175668  -0.98585406]\n",
            " [-0.39046307  1.21545953]\n",
            " [ 0.60553473  0.93753818]\n",
            " [ 0.01385287  0.36404967]\n",
            " [ 0.01385287  0.14788861]\n",
            " [-0.46935398 -0.54470905]\n",
            " [-0.65671991 -0.17855869]\n",
            " [ 0.585812    0.55374202]\n",
            " [-0.65671991 -0.6285266 ]\n",
            " [-0.59755172 -0.16973579]\n",
            " [-0.34115625 -0.14767854]\n",
            " [-0.2425426   1.09193893]\n",
            " [ 0.07302106  0.21847181]\n",
            " [-0.65671991 -0.2579648 ]\n",
            " [-0.65671991 -1.00791131]\n",
            " [ 1.60153253  0.11700846]\n",
            " [ 0.13218924 -0.4785373 ]\n",
            " [-0.49893808 -1.01232276]\n",
            " [-0.25240397  0.02877946]]\n"
          ]
        }
      ]
    },
    {
      "cell_type": "code",
      "source": [
        "print(x_test)"
      ],
      "metadata": {
        "colab": {
          "base_uri": "https://localhost:8080/"
        },
        "id": "zpZ7Z7ay2VHc",
        "outputId": "af51fa00-d3ca-448b-8f38-2b97f039b286"
      },
      "execution_count": 18,
      "outputs": [
        {
          "output_type": "stream",
          "name": "stdout",
          "text": [
            "[[-0.41003969 -1.02160463]\n",
            " [-1.034451    1.4189155 ]\n",
            " [-0.9941664  -1.611397  ]\n",
            " [-0.77260109 -0.7419617 ]\n",
            " [-0.34961278  0.69184388]\n",
            " [ 1.38262504  0.03086967]\n",
            " [-0.65174729  2.09514296]\n",
            " [ 0.71792913  0.43762303]\n",
            " [-0.61146269 -1.13346181]\n",
            " [-0.47046659 -0.39622135]\n",
            " [ 2.20845936 -0.36063043]\n",
            " [-0.04747828 -0.07590308]\n",
            " [-0.53089349  1.01724656]\n",
            " [ 1.56390575 -0.3504616 ]]\n"
          ]
        }
      ]
    },
    {
      "cell_type": "code",
      "source": [
        "from sklearn.neighbors import KNeighborsClassifier\n",
        "classifier=KNeighborsClassifier(n_neighbors=5, metric='minkowski', p=2)\n",
        "classifier.fit(x_train, y_train)"
      ],
      "metadata": {
        "colab": {
          "base_uri": "https://localhost:8080/"
        },
        "id": "aNI-SNgK2VVa",
        "outputId": "e0d9fc55-3ddb-42ec-c7d8-11817bfb58a7"
      },
      "execution_count": 19,
      "outputs": [
        {
          "output_type": "execute_result",
          "data": {
            "text/plain": [
              "KNeighborsClassifier()"
            ]
          },
          "metadata": {},
          "execution_count": 19
        }
      ]
    },
    {
      "cell_type": "code",
      "source": [
        "y_pred=classifier.predict(x_test)"
      ],
      "metadata": {
        "id": "UlCglgEN2VhO"
      },
      "execution_count": 20,
      "outputs": []
    },
    {
      "cell_type": "code",
      "source": [
        "from sklearn.metrics import confusion_matrix\n",
        "cm=confusion_matrix(y_test, y_pred)\n",
        "print(cm)"
      ],
      "metadata": {
        "colab": {
          "base_uri": "https://localhost:8080/"
        },
        "id": "k_WjkmYE2Vsd",
        "outputId": "5de1f43b-e805-486d-82da-d9d144cd6be0"
      },
      "execution_count": 21,
      "outputs": [
        {
          "output_type": "stream",
          "name": "stdout",
          "text": [
            "[[5 1]\n",
            " [5 3]]\n"
          ]
        }
      ]
    },
    {
      "cell_type": "code",
      "source": [
        "from matplotlib.colors import ListedColormap\n",
        "x_set, y_set=x_train, y_train\n",
        "x1, x2=np.meshgrid(np.arange(start=x_set[:, 0].min()-1, stop=x_set[:, 0].max()+1, step=0.01), \n",
        "                   np.arange(start=x_set[:, 1].min()-1, stop=x_set[:, 0].max()+1, step=0.01))\n",
        "plt.contourf(x1, x2, classifier.predict(np.array([x1.ravel(), x2.ravel()]).T).reshape(x1.shape),\n",
        "             alpha=0.75, cmap=ListedColormap(('red', 'green')))\n",
        "plt.xlim(x1.min(), x1.max())\n",
        "plt.ylim(x2.min(), x2.max())\n",
        "for i, j in enumerate(np.unique(y_set)):\n",
        "  plt.scatter(x_set[y_set==j, 0], x_set[y_set==j, 1], \n",
        "              c=ListedColormap(('red','green'))(i), label=j)\n",
        "plt.title('Klasifikasi data dengan K-NN(data training)')\n",
        "plt.xlabel('Kios')\n",
        "plt.ylabel('Los')\n",
        "plt.legend()\n",
        "plt.show()"
      ],
      "metadata": {
        "colab": {
          "base_uri": "https://localhost:8080/",
          "height": 350
        },
        "id": "niQ_o8j62V4N",
        "outputId": "a2328411-dc6a-476f-a019-9910e4321725"
      },
      "execution_count": 22,
      "outputs": [
        {
          "output_type": "stream",
          "name": "stderr",
          "text": [
            "*c* argument looks like a single numeric RGB or RGBA sequence, which should be avoided as value-mapping will have precedence in case its length matches with *x* & *y*.  Please use the *color* keyword-argument or provide a 2-D array with a single row if you intend to specify the same RGB or RGBA value for all points.\n",
            "*c* argument looks like a single numeric RGB or RGBA sequence, which should be avoided as value-mapping will have precedence in case its length matches with *x* & *y*.  Please use the *color* keyword-argument or provide a 2-D array with a single row if you intend to specify the same RGB or RGBA value for all points.\n"
          ]
        },
        {
          "output_type": "display_data",
          "data": {
            "text/plain": [
              "<Figure size 432x288 with 1 Axes>"
            ],
            "image/png": "[encoded data removed]"
          },
          "metadata": {
            "needs_background": "light"
          }
        }
      ]
    },
    {
      "cell_type": "code",
      "source": [
        "from matplotlib.colors import ListedColormap\n",
        "x_set, y_set=x_test, y_test\n",
        "x1, x2=np.meshgrid(np.arange(start=x_set[:, 0].min()-1, stop=x_set[:, 0].max()+1, step=0.01), \n",
        "                   np.arange(start=x_set[:, 1].min()-1, stop=x_set[:, 0].max()+1, step=0.01))\n",
        "plt.contourf(x1, x2, classifier.predict(np.array([x1.ravel(), x2.ravel()]).T).reshape(x1.shape),\n",
        "             alpha=0.75, cmap=ListedColormap(('red', 'green')))\n",
        "plt.xlim(x1.min(), x1.max())\n",
        "plt.ylim(x2.min(), x2.max())\n",
        "for i, j in enumerate(np.unique(y_set)):\n",
        "  plt.scatter(x_set[y_set==j, 0], x_set[y_set==j, 1], \n",
        "              c=ListedColormap(('red','green'))(i), label=j)\n",
        "plt.title('Klasifikasi data dengan K-NN(data training)')\n",
        "plt.xlabel('Kios')\n",
        "plt.ylabel('Los')\n",
        "plt.legend()\n",
        "plt.show()"
      ],
      "metadata": {
        "colab": {
          "base_uri": "https://localhost:8080/",
          "height": 350
        },
        "id": "jUS52Vqd2WEE",
        "outputId": "c995e15c-99f9-4fc9-eb03-72c36e87ddfb"
      },
      "execution_count": 23,
      "outputs": [
        {
          "output_type": "stream",
          "name": "stderr",
          "text": [
            "*c* argument looks like a single numeric RGB or RGBA sequence, which should be avoided as value-mapping will have precedence in case its length matches with *x* & *y*.  Please use the *color* keyword-argument or provide a 2-D array with a single row if you intend to specify the same RGB or RGBA value for all points.\n",
            "*c* argument looks like a single numeric RGB or RGBA sequence, which should be avoided as value-mapping will have precedence in case its length matches with *x* & *y*.  Please use the *color* keyword-argument or provide a 2-D array with a single row if you intend to specify the same RGB or RGBA value for all points.\n"
          ]
        },
        {
          "output_type": "display_data",
          "data": {
            "text/plain": [
              "<Figure size 432x288 with 1 Axes>"
            ],
            "image/png": "[encoded data removed]"
          },
          "metadata": {
            "needs_background": "light"
          }
        }
      ]
    }
  ]
}
